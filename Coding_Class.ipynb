{
 "cells": [
  {
   "cell_type": "code",
   "execution_count": 4,
   "id": "b859477b",
   "metadata": {},
   "outputs": [
    {
     "name": "stdout",
     "output_type": "stream",
     "text": [
      "10\n",
      "20 30\n"
     ]
    }
   ],
   "source": [
    "# use of end\n",
    "print(10)\n",
    "print(20, end=\" \")\n",
    "print(30)"
   ]
  },
  {
   "cell_type": "code",
   "execution_count": 5,
   "id": "49b0ce3e",
   "metadata": {},
   "outputs": [
    {
     "name": "stdout",
     "output_type": "stream",
     "text": [
      "buffalo  buffalo  buffalo  buffalo  buffalo  buffalo  buffalo  buffalo  buffalo  buffalo  buffalo  buffalo  buffalo  buffalo  buffalo  buffalo  buffalo  buffalo  buffalo  buffalo  "
     ]
    }
   ],
   "source": [
    "# while loop\n",
    "a = 20\n",
    "while (a>0):\n",
    "    print(\"buffalo \", end = \" \")\n",
    "    a-=1"
   ]
  },
  {
   "cell_type": "code",
   "execution_count": 6,
   "id": "31568dbf",
   "metadata": {},
   "outputs": [
    {
     "name": "stdout",
     "output_type": "stream",
     "text": [
      "1 4 9 16 25 36 49 64 81 100 121 144 169 196 225 256 289 324 361 400 441 484 529 576 625 "
     ]
    }
   ],
   "source": [
    "# break statements\n",
    "a = 1 \n",
    "while(a>0):\n",
    "    print(a*a,end = \" \")\n",
    "    a+=1\n",
    "    if (a>25):\n",
    "        break;"
   ]
  },
  {
   "cell_type": "code",
   "execution_count": 16,
   "id": "69c37a2d",
   "metadata": {},
   "outputs": [
    {
     "name": "stdout",
     "output_type": "stream",
     "text": [
      "1 4 9 16 36 49 64 81 100 121 "
     ]
    }
   ],
   "source": [
    "#continue\n",
    "a = 0 \n",
    "while(a>=0):\n",
    "    a+=1\n",
    "    if a==5:\n",
    "        continue\n",
    "    print(a*a,end = \" \")\n",
    "    \n",
    "    if (a>10):\n",
    "        break;"
   ]
  },
  {
   "cell_type": "code",
   "execution_count": 17,
   "id": "531e90db",
   "metadata": {},
   "outputs": [],
   "source": [
    "import nltk"
   ]
  },
  {
   "cell_type": "code",
   "execution_count": null,
   "id": "053d183e",
   "metadata": {},
   "outputs": [],
   "source": []
  }
 ],
 "metadata": {
  "kernelspec": {
   "display_name": "Python 3 (ipykernel)",
   "language": "python",
   "name": "python3"
  },
  "language_info": {
   "codemirror_mode": {
    "name": "ipython",
    "version": 3
   },
   "file_extension": ".py",
   "mimetype": "text/x-python",
   "name": "python",
   "nbconvert_exporter": "python",
   "pygments_lexer": "ipython3",
   "version": "3.9.12"
  }
 },
 "nbformat": 4,
 "nbformat_minor": 5
}
